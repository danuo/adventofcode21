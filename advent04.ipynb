{
 "cells": [
  {
   "cell_type": "code",
   "execution_count": 2,
   "metadata": {},
   "outputs": [
    {
     "name": "stdout",
     "output_type": "stream",
     "text": [
      "result 1:  25023\n"
     ]
    }
   ],
   "source": [
    "# ─── CHALLENGE 1 ────────────────────────────────────────────────────────────────\n",
    "\n",
    "import numpy as np\n",
    "import re\n",
    "\n",
    "class Board:\n",
    "    def __init__(self, board):\n",
    "        self.matrix_board = board\n",
    "        self.matrix_marked = np.zeros((5,5), dtype=int)\n",
    "        self.bingo_after_n_numbers = False\n",
    "        self.last_marked_number = 0\n",
    "\n",
    "    def __str__(self):\n",
    "        return str(self.matrix_board)\n",
    "\n",
    "    def check_number(self, number):\n",
    "        if self.bingo_after_n_numbers is False:\n",
    "            if np.any(self.matrix_board == number):\n",
    "                self.last_marked_number = number\n",
    "                self.matrix_marked = np.where(self.matrix_board == number, 1, self.matrix_marked)\n",
    "\n",
    "    def set_bingo(self, counter):\n",
    "        if self.bingo_after_n_numbers is False:\n",
    "            self.bingo_after_n_numbers = counter\n",
    "\n",
    "    def check_if_bingo(self, counter):\n",
    "        for row in self.matrix_marked:\n",
    "            if np.all(row):\n",
    "                self.set_bingo(counter)\n",
    "                return True\n",
    "        for row in self.matrix_marked.transpose():\n",
    "            if np.all(row):\n",
    "                self.set_bingo(counter)\n",
    "                return True\n",
    "        return False\n",
    "\n",
    "    def get_unmarked_sum(self):\n",
    "        result_matrix = np.where(self.matrix_marked == 0, self.matrix_board, 0)\n",
    "        result_number = np.sum(result_matrix)\n",
    "        return result_number\n",
    "\n",
    "\n",
    "with open('input04') as file:\n",
    "    lines = file.read().splitlines()\n",
    "\n",
    "input_numbers = re.findall(\"\\d+\", lines[0])\n",
    "input_numbers = list(map(int, input_numbers))\n",
    "\n",
    "boards = []\n",
    "for i_lines in range(len(lines)):\n",
    "    line = lines[i_lines]\n",
    "    if line == \"\":\n",
    "        board_np = np.zeros((5,5), dtype=int)\n",
    "        for i_rows in range(5):\n",
    "            line_numbers = lines[i_lines+i_rows+1]\n",
    "            row_numbers_str = re.findall(\"\\d+\", line_numbers)\n",
    "            row_numbers_int = map(int, row_numbers_str)\n",
    "            row_numbers_array = np.fromiter(row_numbers_int, dtype=int)\n",
    "            board_np[:,i_rows] = row_numbers_array\n",
    "        board_object = Board(board_np)\n",
    "        boards.append(board_object)\n",
    "\n",
    "\n",
    "challenge_1_done = False\n",
    "for i_num, num in enumerate(input_numbers):\n",
    "    board: Board\n",
    "    for i_board, board in enumerate(boards):\n",
    "        board.check_number(num)\n",
    "        if board.check_if_bingo(i_num):\n",
    "            if challenge_1_done is False:\n",
    "                print('result 1: ', board.last_marked_number * board.get_unmarked_sum())\n",
    "                challenge_1_done = True"
   ]
  },
  {
   "cell_type": "code",
   "execution_count": 3,
   "metadata": {},
   "outputs": [
    {
     "name": "stdout",
     "output_type": "stream",
     "text": [
      "result 2:  2634\n"
     ]
    }
   ],
   "source": [
    "# ─── CHALLENGE 2 ────────────────────────────────────────────────────────────────\n",
    "\n",
    "highest_n_numbers = 0\n",
    "highest_board_id = 0\n",
    "for i_board, board in enumerate(boards):\n",
    "    if board.bingo_after_n_numbers > highest_n_numbers:\n",
    "        highest_n_numbers = board.bingo_after_n_numbers\n",
    "        highest_board_id = i_board\n",
    "\n",
    "print('result 2: ', boards[highest_board_id].get_unmarked_sum()*boards[highest_board_id].last_marked_number)"
   ]
  }
 ],
 "metadata": {
  "kernelspec": {
   "display_name": "Python 3.10.4 ('ravelights')",
   "language": "python",
   "name": "python3"
  },
  "language_info": {
   "codemirror_mode": {
    "name": "ipython",
    "version": 3
   },
   "file_extension": ".py",
   "mimetype": "text/x-python",
   "name": "python",
   "nbconvert_exporter": "python",
   "pygments_lexer": "ipython3",
   "version": "3.10.4"
  },
  "orig_nbformat": 4,
  "vscode": {
   "interpreter": {
    "hash": "93ebad531fc14ba2f2fe9865593b3cc6d4b4610116dacef3aa50777030d7ba3e"
   }
  }
 },
 "nbformat": 4,
 "nbformat_minor": 2
}
