{
 "cells": [
  {
   "cell_type": "code",
   "execution_count": 1,
   "metadata": {},
   "outputs": [
    {
     "name": "stdout",
     "output_type": "stream",
     "text": [
      "1524750\n"
     ]
    }
   ],
   "source": [
    "# ─── CHALLENGE 1 ────────────────────────────────────────────────────────────────\n",
    "\n",
    "with open('input02') as file:\n",
    "    lines = file.read().splitlines()\n",
    "\n",
    "pos_hor, pos_dep = 0, 0\n",
    "\n",
    "for line in lines:\n",
    "    command, number = line.split(' ')\n",
    "    command = command[0]\n",
    "    number = int(number)\n",
    "    if command == 'f':  # forward\n",
    "        pos_hor += number\n",
    "    if command == 'd':  # down\n",
    "        pos_dep += number\n",
    "    if command == 'u':  # up\n",
    "        pos_dep -= number\n",
    "\n",
    "print('result 1: ', pos_dep*pos_hor)"
   ]
  },
  {
   "cell_type": "code",
   "execution_count": 2,
   "metadata": {},
   "outputs": [
    {
     "name": "stdout",
     "output_type": "stream",
     "text": [
      "result 2:  1592426537\n"
     ]
    }
   ],
   "source": [
    "# ─── CHALLENGE 2 ────────────────────────────────────────────────────────────────\n",
    "\n",
    "pos_hor, pos_dep, aim = 0, 0, 0\n",
    "\n",
    "for line in lines:\n",
    "    command, number = line.split(' ')\n",
    "    command = command[0]\n",
    "    number = int(number)\n",
    "    if command == 'f':  # forward\n",
    "        pos_hor += number\n",
    "        pos_dep += aim*number\n",
    "    if command == 'd':  # down\n",
    "        aim += number\n",
    "    if command == 'u':  # up\n",
    "        aim -= number\n",
    "\n",
    "print('result 2: ', pos_dep*pos_hor)"
   ]
  }
 ],
 "metadata": {
  "interpreter": {
   "hash": "6b7ba686e5312472f391e9d9898d37632c181bdc226f0305c99ce9686578476c"
  },
  "kernelspec": {
   "display_name": "Python 3.9.7 64-bit ('torch': conda)",
   "language": "python",
   "name": "python3"
  },
  "language_info": {
   "codemirror_mode": {
    "name": "ipython",
    "version": 3
   },
   "file_extension": ".py",
   "mimetype": "text/x-python",
   "name": "python",
   "nbconvert_exporter": "python",
   "pygments_lexer": "ipython3",
   "version": "3.9.7"
  },
  "orig_nbformat": 4
 },
 "nbformat": 4,
 "nbformat_minor": 2
}
