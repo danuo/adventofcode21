{
 "cells": [
  {
   "cell_type": "code",
   "execution_count": 1,
   "metadata": {},
   "outputs": [
    {
     "name": "stdout",
     "output_type": "stream",
     "text": [
      "5597\n",
      "18723\n"
     ]
    }
   ],
   "source": [
    "# ─── Challenge 1 & 2 ──────────────────────────────────────────────────────────\n",
    "\n",
    "import numpy as np\n",
    "\n",
    "with open('input20') as file:\n",
    "    lines = file.read().splitlines()\n",
    "\n",
    "enhancement_string = \"\"\n",
    "in_first_seg = True\n",
    "for i, line in enumerate(lines):\n",
    "    if len(line) == 0:\n",
    "        in_first_seg = False\n",
    "        matrix_height = len(lines) - i - 1\n",
    "        matrix_width = len(lines[i+1])\n",
    "        matrix_source = np.zeros((matrix_height, matrix_width), dtype=int)\n",
    "        matrix_row = 0\n",
    "    elif in_first_seg:\n",
    "        enhancement_string += line\n",
    "    else:\n",
    "        for i, letter in enumerate(line):\n",
    "            matrix_source[matrix_row, i] = 1 if letter == \"#\" else 0\n",
    "        matrix_row += 1\n",
    "\n",
    "enhancement_string_int = [1 if letter == \"#\" else 0 for letter in enhancement_string]\n",
    "\n",
    "for n in [2, 50]:\n",
    "    matrix = matrix_source.copy()\n",
    "    for i in range(n):\n",
    "        pad_value = 0 if i%2 == 0 else 1\n",
    "        matrix = np.pad(matrix, 1, mode=\"constant\", constant_values=pad_value)\n",
    "\n",
    "        matrix_padded = np.pad(matrix, 1, mode=\"constant\", constant_values=pad_value)\n",
    "        for iy, ix in np.ndindex(matrix.shape):\n",
    "            numbers = matrix_padded[iy:iy+3, ix:ix+3]\n",
    "            num_str = \"\"\n",
    "            for num in numbers.flatten():\n",
    "                num_str += str(num)\n",
    "            num_int = int(num_str, 2)\n",
    "\n",
    "            matrix[iy, ix] = enhancement_string_int[num_int]\n",
    "\n",
    "    print(np.count_nonzero(matrix))"
   ]
  }
 ],
 "metadata": {
  "kernelspec": {
   "display_name": "Python 3.8.3 ('base')",
   "language": "python",
   "name": "python3"
  },
  "language_info": {
   "codemirror_mode": {
    "name": "ipython",
    "version": 3
   },
   "file_extension": ".py",
   "mimetype": "text/x-python",
   "name": "python",
   "nbconvert_exporter": "python",
   "pygments_lexer": "ipython3",
   "version": "3.8.3"
  },
  "orig_nbformat": 4,
  "vscode": {
   "interpreter": {
    "hash": "92d1c8824dd9ed58f2e2fe7d35df9188f2132fcf69312c535170a29d4fbf29a8"
   }
  }
 },
 "nbformat": 4,
 "nbformat_minor": 2
}
