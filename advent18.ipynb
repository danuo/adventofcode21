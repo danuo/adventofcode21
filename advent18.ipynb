{
 "cells": [
  {
   "cell_type": "code",
   "execution_count": 1,
   "metadata": {},
   "outputs": [
    {
     "name": "stdout",
     "output_type": "stream",
     "text": [
      "result 1:  4132\n"
     ]
    }
   ],
   "source": [
    "# ─── Challenge 1 ──────────────────────────────────────────────────────────────\n",
    "\n",
    "with open('input18') as file:\n",
    "    lines = file.read().splitlines()\n",
    "\n",
    "def parse_string(string_in):\n",
    "    out_list = []\n",
    "    for letter in string_in:\n",
    "        if letter == \",\":\n",
    "            pass\n",
    "        elif letter in \"[]\":\n",
    "            out_list.append(letter)\n",
    "        else:\n",
    "            out_list.append(int(letter))\n",
    "    return out_list\n",
    "\n",
    "def apply_explosion(snail_list: list):\n",
    "    depth_counter = 0\n",
    "    for i in range(len(snail_list)):\n",
    "        item = snail_list[i]\n",
    "        if item == \"[\":\n",
    "            depth_counter += 1\n",
    "        elif item == \"]\":\n",
    "            depth_counter -= 1\n",
    "        if depth_counter == 5:\n",
    "            num_left, num_right = snail_list[i+1:i+3]\n",
    "            snail_list[i] = 0\n",
    "            for _ in range(3):\n",
    "                snail_list.pop(i+1)\n",
    "            for j in range(i-1, 0, -1):  # add left\n",
    "                if isinstance(snail_list[j], int):\n",
    "                    snail_list[j] += num_left\n",
    "                    break\n",
    "            for j in range(i+1, len(snail_list)):  # add right\n",
    "                if isinstance(snail_list[j], int):\n",
    "                    snail_list[j] += num_right\n",
    "                    break\n",
    "            return True\n",
    "    return False\n",
    "\n",
    "def apply_split(snail_list: list):\n",
    "    def split_num(num: int):\n",
    "        split_number_left = num //2\n",
    "        split_number_right = num - split_number_left\n",
    "        return split_number_left, split_number_right\n",
    "\n",
    "    for i in range(len(snail_list)):\n",
    "        item = snail_list[i]\n",
    "        if isinstance(item, int):\n",
    "            if item > 9:\n",
    "                a, b = split_num(item)\n",
    "                snail_list[i] = \"]\"\n",
    "                for item in [b, a, \"[\"]:\n",
    "                    snail_list.insert(i, item)\n",
    "                return True\n",
    "    return False\n",
    "\n",
    "def apply_rules(snail_list: list):\n",
    "    keep_running = True\n",
    "    while keep_running:\n",
    "        while apply_explosion(snail_list):\n",
    "            pass\n",
    "        keep_running = apply_split(snail_list)\n",
    "\n",
    "def calculate_score(snail_list: list):\n",
    "    while len(snail_list) > 1:\n",
    "        for i in range(len(snail_list)-3):\n",
    "            if (snail_list[i] == \"[\") and (snail_list[i+3] == \"]\"):\n",
    "                snail_list[i] = snail_list[i+1] * 3 + snail_list[i+2] * 2\n",
    "                for _ in range(3):\n",
    "                    snail_list.pop(i+1)\n",
    "                break\n",
    "    return snail_list[0]\n",
    "\n",
    "\n",
    "snail_list = parse_string(lines[0])\n",
    "for line in lines[1:]:\n",
    "    snail_list.insert(0, \"[\")\n",
    "    snail_list += parse_string(line)\n",
    "    snail_list.append(\"]\")\n",
    "    apply_rules(snail_list)\n",
    "\n",
    "print('result 1: ', calculate_score(snail_list))"
   ]
  },
  {
   "cell_type": "code",
   "execution_count": 2,
   "metadata": {},
   "outputs": [
    {
     "name": "stdout",
     "output_type": "stream",
     "text": [
      "result 2:  4685\n"
     ]
    }
   ],
   "source": [
    "# ─── Challenge 2 ──────────────────────────────────────────────────────────────\n",
    "\n",
    "max_score = 0\n",
    "for i in range(len(lines)):\n",
    "    for j in range(len(lines)):\n",
    "        if i == j:\n",
    "            continue\n",
    "        snail_list = parse_string(lines[i])\n",
    "        snail_list += parse_string(lines[j])\n",
    "        snail_list.insert(0, \"[\")\n",
    "        snail_list.append(\"]\")\n",
    "        apply_rules(snail_list)\n",
    "        score = calculate_score(snail_list)\n",
    "        if score > max_score:\n",
    "            max_score = score\n",
    "        \n",
    "print('result 2: ', max_score)"
   ]
  }
 ],
 "metadata": {
  "kernelspec": {
   "display_name": "Python 3.9.7 ('torch')",
   "language": "python",
   "name": "python3"
  },
  "language_info": {
   "codemirror_mode": {
    "name": "ipython",
    "version": 3
   },
   "file_extension": ".py",
   "mimetype": "text/x-python",
   "name": "python",
   "nbconvert_exporter": "python",
   "pygments_lexer": "ipython3",
   "version": "3.9.7"
  },
  "orig_nbformat": 4,
  "vscode": {
   "interpreter": {
    "hash": "d658620874f52341446cf3eccb44f890c3e7d437a37f27f524e92795410287da"
   }
  }
 },
 "nbformat": 4,
 "nbformat_minor": 2
}
