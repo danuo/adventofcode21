{
 "cells": [
  {
   "cell_type": "code",
   "execution_count": 1,
   "metadata": {},
   "outputs": [
    {
     "name": "stdout",
     "output_type": "stream",
     "text": [
      "result 1:  920\n",
      "result 2:  10185143721112\n"
     ]
    }
   ],
   "source": [
    "from math import prod\n",
    "\n",
    "with open('input16') as file:\n",
    "    lines = file.read()\n",
    "\n",
    "input_mapping = \"\"\"0 = 0000\n",
    "1 = 0001\n",
    "2 = 0010\n",
    "3 = 0011\n",
    "4 = 0100\n",
    "5 = 0101\n",
    "6 = 0110\n",
    "7 = 0111\n",
    "8 = 1000\n",
    "9 = 1001\n",
    "A = 1010\n",
    "B = 1011\n",
    "C = 1100\n",
    "D = 1101\n",
    "E = 1110\n",
    "F = 1111\"\"\".splitlines()\n",
    "\n",
    "operations = (\n",
    "    sum,\n",
    "    prod,\n",
    "    min,\n",
    "    max,\n",
    "    None,\n",
    "    lambda x: 1 if x[0] > x[1] else 0,\n",
    "    lambda x: 1 if x[0] < x[1] else 0,\n",
    "    lambda x: 1 if x[0] == x[1] else 0,\n",
    ")\n",
    "\n",
    "d = dict()\n",
    "for line in input_mapping:\n",
    "    a, b = line.split(' = ')\n",
    "    d[a] = b\n",
    "bits = \"\".join([d[c] for c in lines.strip()])\n",
    "\n",
    "pos = 0\n",
    "ver_counter = 0\n",
    "\n",
    "def read_n(n):\n",
    "    global pos\n",
    "    out = bits[pos:pos+n]\n",
    "    pos += n\n",
    "    return out\n",
    "\n",
    "def get_total():\n",
    "    global ver_counter\n",
    "\n",
    "    pversion = int(read_n(3), 2)\n",
    "    ptype = int(read_n(3), 2)\n",
    "    ver_counter += pversion\n",
    "    \n",
    "    if ptype == 4:  # is literal value\n",
    "        bits_string = \"\"\n",
    "        while read_n(1) == \"1\":  # not last\n",
    "            bits_string += read_n(4)\n",
    "        bits_string += read_n(4)\n",
    "        return int(bits_string, 2)\n",
    "    \n",
    "    elif read_n(1) == '0':\n",
    "        bits_len = int(read_n(15), 2)\n",
    "        target_pos = pos + bits_len\n",
    "        num_list = []\n",
    "        while pos < target_pos:\n",
    "            num_list.append(get_total())\n",
    "        total = operations[ptype](num_list)\n",
    "        return total\n",
    "    \n",
    "    else:\n",
    "        num_packets = int(read_n(11), 2)\n",
    "        total = operations[ptype]([get_total() for _ in range(num_packets)])\n",
    "        return total\n",
    "\n",
    "total = get_total()\n",
    "print('result 1: ', ver_counter)\n",
    "print('result 2: ', total)"
   ]
  }
 ],
 "metadata": {
  "kernelspec": {
   "display_name": "Python 3.9.7 ('torch')",
   "language": "python",
   "name": "python3"
  },
  "language_info": {
   "codemirror_mode": {
    "name": "ipython",
    "version": 3
   },
   "file_extension": ".py",
   "mimetype": "text/x-python",
   "name": "python",
   "nbconvert_exporter": "python",
   "pygments_lexer": "ipython3",
   "version": "3.9.7"
  },
  "orig_nbformat": 4,
  "vscode": {
   "interpreter": {
    "hash": "d658620874f52341446cf3eccb44f890c3e7d437a37f27f524e92795410287da"
   }
  }
 },
 "nbformat": 4,
 "nbformat_minor": 2
}
