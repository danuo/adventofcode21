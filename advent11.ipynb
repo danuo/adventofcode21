{
 "cells": [
  {
   "cell_type": "code",
   "execution_count": 1,
   "metadata": {},
   "outputs": [
    {
     "name": "stdout",
     "output_type": "stream",
     "text": [
      "result 1:  1637\n"
     ]
    }
   ],
   "source": [
    "# ─── CHALLENGE 1 ────────────────────────────────────────────────────────────────\n",
    "\n",
    "import numpy as np\n",
    "from itertools import product\n",
    "\n",
    "with open('input11') as file:\n",
    "    lines = file.read().splitlines()\n",
    "\n",
    "counter_int_matrix = np.zeros((len(lines), len(lines[0])), dtype=int)\n",
    "flashed_bool_matrix = counter_int_matrix.copy()\n",
    "\n",
    "for i, line in enumerate(lines):\n",
    "    line_int_list = np.fromiter(map(int, line), dtype=int)\n",
    "    counter_int_matrix[i,:] = line_int_list\n",
    "counter_int_matrix_c1 = counter_int_matrix.copy()\n",
    "counter_int_matrix_c2 = counter_int_matrix.copy()\n",
    "\n",
    "def get_adjecent_coords(matrix, y, x):\n",
    "    def clip(num, num_min, num_max):\n",
    "        out_nums = [num]\n",
    "        if num >= num_min+1:\n",
    "            out_nums.append(num-1)\n",
    "        if num <= num_max-2:\n",
    "            out_nums.append(num+1)\n",
    "        return out_nums\n",
    "    y_max, x_max = matrix.shape\n",
    "    y_coords = []\n",
    "    x_coords = []\n",
    "    y_coords += clip(y, 0, y_max)\n",
    "    x_coords += clip(x, 0, x_max)\n",
    "    coords = list(product(y_coords, x_coords))\n",
    "    coords.remove((y, x))\n",
    "    return coords\n",
    "\n",
    "def flash(y, x, number_matrix, flashed, counter_flash):\n",
    "    if flashed[y, x] > 0:\n",
    "        return number_matrix, flashed, counter_flash\n",
    "    counter_flash += 1\n",
    "    adjacent_coords = get_adjecent_coords(number_matrix, y, x)\n",
    "    for adj_y, adj_x in adjacent_coords:\n",
    "        number_matrix[adj_y, adj_x] += 1\n",
    "    number_matrix[y, x] = 0\n",
    "    flashed[y, x] = 1\n",
    "    return number_matrix, flashed, counter_flash\n",
    "\n",
    "counter_flash = 0\n",
    "for i in range(100):\n",
    "    counter_int_matrix += 1\n",
    "    counter_int_matrix_c1[:, :] = 0\n",
    "    while np.any(candidates := counter_int_matrix > 9):\n",
    "        for y, x in np.argwhere(candidates):\n",
    "            counter_int_matrix, counter_int_matrix_c1, counter_flash = flash(y, x, counter_int_matrix, counter_int_matrix_c1, counter_flash)\n",
    "        counter_int_matrix[counter_int_matrix_c1 > 0] = 0\n",
    "print('result 1: ', counter_flash)"
   ]
  },
  {
   "cell_type": "code",
   "execution_count": 2,
   "metadata": {},
   "outputs": [
    {
     "name": "stdout",
     "output_type": "stream",
     "text": [
      "result 2:  242\n"
     ]
    }
   ],
   "source": [
    "# ─── CHALLENGE 2 ────────────────────────────────────────────────────────────────\n",
    "\n",
    "for i in range(int(1e3)):\n",
    "    counter_int_matrix_c2 += 1\n",
    "    flashed_bool_matrix[:, :] = 0\n",
    "    while np.any(candidates := counter_int_matrix_c2 > 9):\n",
    "        for y, x in np.argwhere(candidates):\n",
    "            counter_int_matrix_c2, flashed_bool_matrix, counter_flash = flash(y, x, counter_int_matrix_c2, flashed_bool_matrix, counter_flash)\n",
    "        counter_int_matrix_c2[flashed_bool_matrix > 0] = 0\n",
    "\n",
    "    if np.all(flashed_bool_matrix > 0):\n",
    "        print('result 2: ', i+1)\n",
    "        break"
   ]
  }
 ],
 "metadata": {
  "kernelspec": {
   "display_name": "Python 3.10.4 ('ravelights')",
   "language": "python",
   "name": "python3"
  },
  "language_info": {
   "codemirror_mode": {
    "name": "ipython",
    "version": 3
   },
   "file_extension": ".py",
   "mimetype": "text/x-python",
   "name": "python",
   "nbconvert_exporter": "python",
   "pygments_lexer": "ipython3",
   "version": "3.10.4"
  },
  "orig_nbformat": 4,
  "vscode": {
   "interpreter": {
    "hash": "93ebad531fc14ba2f2fe9865593b3cc6d4b4610116dacef3aa50777030d7ba3e"
   }
  }
 },
 "nbformat": 4,
 "nbformat_minor": 2
}
