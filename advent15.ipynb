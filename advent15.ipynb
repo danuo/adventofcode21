{
 "cells": [
  {
   "cell_type": "code",
   "execution_count": 1,
   "metadata": {},
   "outputs": [
    {
     "name": "stdout",
     "output_type": "stream",
     "text": [
      "result 1:  403\n"
     ]
    }
   ],
   "source": [
    "# ─── CHALLENGE 1 ────────────────────────────────────────────────────────────────\n",
    "\n",
    "import numpy as np\n",
    "import heapq\n",
    "\n",
    "with open('input15') as file:\n",
    "    lines = file.read().splitlines()\n",
    "    \n",
    "def get_adjacent_coords(y, x, matrix):\n",
    "    y_max = matrix.shape[0] - 1\n",
    "    x_max = matrix.shape[1] - 1\n",
    "    coords = []\n",
    "    if y < y_max:\n",
    "        coords.append((y+1,x))\n",
    "    if y > 0:\n",
    "        coords.append((y-1,x))\n",
    "    if x < x_max:\n",
    "        coords.append((y,x+1))\n",
    "    if x > 0:\n",
    "        coords.append((y,x-1))\n",
    "    return coords\n",
    "\n",
    "def get_distance(y1, x1, y2, x2):\n",
    "    return abs(y1 - y2) + abs(x1 - x2)\n",
    "\n",
    "def astar(matrix_costs):\n",
    "    start_node_coords = (0, 0)\n",
    "    end_node_coords = (matrix_costs.shape[0] - 1, matrix_costs.shape[1] - 1)\n",
    "\n",
    "    open_queue = []\n",
    "    closed_queue = set()\n",
    "    parent_coords = {}\n",
    "    g_score = {}\n",
    "\n",
    "    for y, x in np.ndindex(matrix_costs.shape):\n",
    "        g_score[(y, x)] = np.Inf\n",
    "\n",
    "    g_score[start_node_coords] = 0\n",
    "    heapq.heappush(open_queue, (get_distance(*start_node_coords, *start_node_coords), start_node_coords))\n",
    "\n",
    "    while open_queue:\n",
    "        # get candidate from open_queue with highest priority\n",
    "        _, node_coords = heapq.heappop(open_queue)\n",
    "        if node_coords == end_node_coords:\n",
    "            total_costs = 0\n",
    "            while node_coords in parent_coords:\n",
    "                y, x = node_coords\n",
    "                total_costs += matrix_costs[y][x]\n",
    "                node_coords = parent_coords[node_coords]\n",
    "            return total_costs\n",
    "\n",
    "        # if node in closed queue, skip\n",
    "        elif node_coords in closed_queue:\n",
    "            continue\n",
    "\n",
    "        # get adjacent node coordinates\n",
    "        else:\n",
    "            neighbours = get_adjacent_coords(*node_coords, matrix_costs)\n",
    "            for neighbour in neighbours:\n",
    "                if neighbour in closed_queue:\n",
    "                    continue\n",
    "                y, x = neighbour\n",
    "                added_g_score = matrix_costs[y][x]\n",
    "\n",
    "                candidate_g = g_score[node_coords] + added_g_score\n",
    "\n",
    "                if candidate_g <= g_score[neighbour]:\n",
    "                    g_score[neighbour] = candidate_g\n",
    "                    parent_coords[neighbour] = node_coords\n",
    "                    f = get_distance(*neighbour, *end_node_coords) + candidate_g  # f(n) = h(n) + g(n)\n",
    "                    heapq.heappush(open_queue, (f, neighbour))\n",
    "\n",
    "            closed_queue.add(node_coords)\n",
    "\n",
    "\n",
    "matrix_costs_c1 = np.zeros((len(lines), len(lines[0])), dtype=int)\n",
    "for y, line in enumerate(lines):\n",
    "    for x, num in enumerate(line):\n",
    "        matrix_costs_c1[y, x] = int(num)\n",
    "\n",
    "print('result 1: ', astar(matrix_costs_c1))"
   ]
  },
  {
   "cell_type": "code",
   "execution_count": 2,
   "metadata": {},
   "outputs": [
    {
     "name": "stdout",
     "output_type": "stream",
     "text": [
      "result 2:  2840\n"
     ]
    }
   ],
   "source": [
    "# ─── CHALLENGE 2 ────────────────────────────────────────────────────────────────\n",
    "\n",
    "matrix_costs_c2 = np.concatenate([matrix_costs_c1]*5, axis=0)\n",
    "matrix_costs_c2 = np.concatenate([matrix_costs_c2]*5, axis=1)\n",
    "\n",
    "y_size = matrix_costs_c1.shape[0]\n",
    "x_size = matrix_costs_c1.shape[1]\n",
    "\n",
    "for y, x in np.ndindex((5,5)):\n",
    "    matrix_costs_c2[y*y_size:(y+1)*y_size, x*x_size:(x+1)*x_size] += (x+y)\n",
    "\n",
    "while np.max(matrix_costs_c2) > 9:\n",
    "    matrix_costs_c2 = np.where(matrix_costs_c2 > 9, matrix_costs_c2-9, matrix_costs_c2)\n",
    "\n",
    "y_idx_max = matrix_costs_c2.shape[0] - 1\n",
    "x_idx_max = matrix_costs_c2.shape[1] - 1\n",
    "\n",
    "print('result 2: ', astar(matrix_costs_c2))"
   ]
  }
 ],
 "metadata": {
  "kernelspec": {
   "display_name": "Python 3.9.7 ('torch')",
   "language": "python",
   "name": "python3"
  },
  "language_info": {
   "codemirror_mode": {
    "name": "ipython",
    "version": 3
   },
   "file_extension": ".py",
   "mimetype": "text/x-python",
   "name": "python",
   "nbconvert_exporter": "python",
   "pygments_lexer": "ipython3",
   "version": "3.9.7"
  },
  "orig_nbformat": 4,
  "vscode": {
   "interpreter": {
    "hash": "d658620874f52341446cf3eccb44f890c3e7d437a37f27f524e92795410287da"
   }
  }
 },
 "nbformat": 4,
 "nbformat_minor": 2
}
