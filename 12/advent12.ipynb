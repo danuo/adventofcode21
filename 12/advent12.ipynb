{
 "cells": [
  {
   "cell_type": "code",
   "execution_count": 1,
   "metadata": {},
   "outputs": [
    {
     "name": "stdout",
     "output_type": "stream",
     "text": [
      "result 1:  4104\n",
      "result 2:  119760\n"
     ]
    }
   ],
   "source": [
    "# ─── CHALLENGE 1 & 2──────────────────────────────────────────────────────────────\n",
    "\n",
    "from collections import defaultdict\n",
    "\n",
    "connected_nodes = defaultdict(list)\n",
    "\n",
    "with open('input') as file:\n",
    "    lines = file.read().splitlines()\n",
    "\n",
    "for line in lines:\n",
    "    a, b = line.split('-')\n",
    "    connected_nodes[a].append(b)\n",
    "    connected_nodes[b].append(a)\n",
    "\n",
    "\n",
    "def extend_list(string_list):\n",
    "    last_item = string_list[-1]\n",
    "    node_candidates = connected_nodes[last_item]\n",
    "    \n",
    "    out_list = []\n",
    "    next_node: str\n",
    "    for next_node in node_candidates:\n",
    "        # start can only be visited once\n",
    "        if next_node == 'start':\n",
    "            continue\n",
    "\n",
    "        # if end node is reached, the path is complete\n",
    "        elif next_node == 'end':\n",
    "            out_list.append(string_list+[next_node])\n",
    "\n",
    "        # if next_node is lower (small cave), check if is in path already\n",
    "        elif all([\n",
    "                len(next_node) in [1,2],\n",
    "                next_node.islower(),\n",
    "                next_node in string_list\n",
    "            ]):\n",
    "            if string_list[0] is False:\n",
    "                new_input = string_list.copy()\n",
    "                new_input[0] = True\n",
    "                out_list += extend_list(new_input+[next_node])\n",
    "            else:\n",
    "                continue\n",
    "\n",
    "        # next_node is unique small cave or big cave\n",
    "        else:\n",
    "            out_list += extend_list(string_list+[next_node])\n",
    "    return out_list\n",
    "\n",
    "path_list_1 = extend_list([True, \"start\"])\n",
    "path_list_2 = extend_list([False, \"start\"])\n",
    "\n",
    "print('result 1: ', len(path_list_1))\n",
    "print('result 2: ', len(path_list_2))"
   ]
  }
 ],
 "metadata": {
  "kernelspec": {
   "display_name": "Python 3.9.7 ('torch')",
   "language": "python",
   "name": "python3"
  },
  "language_info": {
   "codemirror_mode": {
    "name": "ipython",
    "version": 3
   },
   "file_extension": ".py",
   "mimetype": "text/x-python",
   "name": "python",
   "nbconvert_exporter": "python",
   "pygments_lexer": "ipython3",
   "version": "3.9.7"
  },
  "orig_nbformat": 4,
  "vscode": {
   "interpreter": {
    "hash": "d658620874f52341446cf3eccb44f890c3e7d437a37f27f524e92795410287da"
   }
  }
 },
 "nbformat": 4,
 "nbformat_minor": 2
}
