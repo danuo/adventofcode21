{
 "cells": [
  {
   "cell_type": "code",
   "execution_count": 1,
   "metadata": {},
   "outputs": [
    {
     "name": "stdout",
     "output_type": "stream",
     "text": [
      "result 1:  6710\n"
     ]
    }
   ],
   "source": [
    "# ─── CHALLENGE 1 ────────────────────────────────────────────────────────────────\n",
    "\n",
    "import re\n",
    "import numpy as np\n",
    "with open('input05') as file:\n",
    "    lines = file.read().splitlines()\n",
    "\n",
    "all_coords = re.findall(\"\\d+\", \" \".join(lines))\n",
    "\n",
    "counter_c1 = np.zeros((1000, 1000), dtype=int)\n",
    "counter_c2 = np.zeros((1000, 1000), dtype=int)\n",
    "\n",
    "for line in lines:\n",
    "    coordinates = re.findall(\"\\d+\", line)\n",
    "    x1, y1, x2, y2 = map(int, coordinates)\n",
    "    if x1 != x2 and y1 != y2:\n",
    "        step_x = 1 if x2 > x1 else -1\n",
    "        step_y = 1 if y2 > y1 else -1\n",
    "        for x, y in zip(\n",
    "            list(range(x1, x2, step_x))+[x2], \n",
    "            list(range(y1, y2, step_y))+[y2]\n",
    "                ):\n",
    "            counter_c2[x, y]+=1\n",
    "    elif x1 == x2: # vertical move\n",
    "        step_y = 1 if y2 > y1 else -1\n",
    "        for y in list(range(y1, y2, step_y))+[y2]:\n",
    "            counter_c1[x1, y]+=1\n",
    "            counter_c2[x1, y]+=1\n",
    "    elif y1 == y2: # vertical move\n",
    "        step_x = 1 if x2 > x1 else -1\n",
    "        for x in list(range(x1, x2, step_x))+[x2]:\n",
    "            counter_c1[x, y1]+=1\n",
    "            counter_c2[x, y1]+=1\n",
    "\n",
    "print('result 1: ', np.count_nonzero(counter_c1 >= 2))"
   ]
  },
  {
   "cell_type": "code",
   "execution_count": 2,
   "metadata": {},
   "outputs": [
    {
     "name": "stdout",
     "output_type": "stream",
     "text": [
      "result 2:  20121\n"
     ]
    }
   ],
   "source": [
    "# ─── CHALLENGE 2 ────────────────────────────────────────────────────────────────\n",
    "\n",
    "print('result 2: ', np.count_nonzero(counter_c2 >= 2))"
   ]
  }
 ],
 "metadata": {
  "kernelspec": {
   "display_name": "Python 3.10.4 ('ravelights')",
   "language": "python",
   "name": "python3"
  },
  "language_info": {
   "codemirror_mode": {
    "name": "ipython",
    "version": 3
   },
   "file_extension": ".py",
   "mimetype": "text/x-python",
   "name": "python",
   "nbconvert_exporter": "python",
   "pygments_lexer": "ipython3",
   "version": "3.10.4"
  },
  "orig_nbformat": 4,
  "vscode": {
   "interpreter": {
    "hash": "93ebad531fc14ba2f2fe9865593b3cc6d4b4610116dacef3aa50777030d7ba3e"
   }
  }
 },
 "nbformat": 4,
 "nbformat_minor": 2
}
