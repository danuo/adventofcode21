{
 "cells": [
  {
   "cell_type": "code",
   "execution_count": 1,
   "metadata": {},
   "outputs": [
    {
     "name": "stdout",
     "output_type": "stream",
     "text": [
      "result 1:  3555\n",
      "result 2:  4439442043739\n"
     ]
    }
   ],
   "source": [
    "# ─── CHALLENGE 1 & 2 ─────────────────────────────────────────────────────────────\n",
    "\n",
    "from collections import defaultdict, Counter\n",
    "\n",
    "with open('input') as file:\n",
    "    lines = file.read().splitlines()\n",
    "    \n",
    "def calculate_result_score(input_string, pair_counter):\n",
    "    letter_counter = Counter()\n",
    "    # first and last letter in original string will only appera in one pair,\n",
    "    # therefore must be counted twice manually here\n",
    "    letter_counter[input_string[0]] = 1\n",
    "    letter_counter[input_string[-1]] = 1\n",
    "    for pair, counter in pair_counter.items():\n",
    "        a, b = pair\n",
    "        letter_counter[a] += counter\n",
    "        letter_counter[b] += counter\n",
    "    return (letter_counter.most_common()[0][1] - letter_counter.most_common()[-1][1])//2\n",
    "\n",
    "relations_advanced = dict()\n",
    "for line in lines:\n",
    "    if '->' in line:\n",
    "        (a, b), c = line.split(' -> ')\n",
    "        relations_advanced[a+b] = (a+c, c+b)\n",
    "\n",
    "input_string = lines[0]\n",
    "pair_counter = defaultdict(int)\n",
    "# build initial pair counter (step 0)\n",
    "for i in range(len(input_string)-1):\n",
    "    a = input_string[i]\n",
    "    b = input_string[i+1]\n",
    "    pair_counter[a+b] += 1\n",
    "\n",
    "for i in range(40):\n",
    "    pair_counter_new = defaultdict(int)\n",
    "    for in_pair, in_counter in pair_counter.items():\n",
    "        for out_pair in relations_advanced[in_pair]:\n",
    "            pair_counter_new[out_pair] += in_counter\n",
    "    pair_counter = pair_counter_new\n",
    "    if i == 9:\n",
    "        print('result 1: ', calculate_result_score(input_string, pair_counter))\n",
    "\n",
    "print('result 2: ', calculate_result_score(input_string, pair_counter))"
   ]
  }
 ],
 "metadata": {
  "kernelspec": {
   "display_name": "Python 3.9.7 ('torch')",
   "language": "python",
   "name": "python3"
  },
  "language_info": {
   "codemirror_mode": {
    "name": "ipython",
    "version": 3
   },
   "file_extension": ".py",
   "mimetype": "text/x-python",
   "name": "python",
   "nbconvert_exporter": "python",
   "pygments_lexer": "ipython3",
   "version": "3.9.7"
  },
  "orig_nbformat": 4,
  "vscode": {
   "interpreter": {
    "hash": "d658620874f52341446cf3eccb44f890c3e7d437a37f27f524e92795410287da"
   }
  }
 },
 "nbformat": 4,
 "nbformat_minor": 2
}
