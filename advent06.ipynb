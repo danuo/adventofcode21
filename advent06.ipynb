{
 "cells": [
  {
   "cell_type": "code",
   "execution_count": 1,
   "metadata": {},
   "outputs": [
    {
     "name": "stdout",
     "output_type": "stream",
     "text": [
      "result 1:  396210\n"
     ]
    }
   ],
   "source": [
    "# ─── CHALLENGE 1 ────────────────────────────────────────────────────────────────\n",
    "\n",
    "import re\n",
    "from functools import lru_cache\n",
    "with open('input06') as file:\n",
    "    lines = file.read().splitlines()\n",
    "\n",
    "fishlist = list(map(int, re.findall(\"\\d+\", lines[0])))\n",
    "\n",
    "n_days = 80\n",
    "\n",
    "for _ in range(n_days):\n",
    "    add_fishes = 0\n",
    "    for i, num in enumerate(fishlist):\n",
    "        assert num >= 0\n",
    "        if num == 0:\n",
    "            fishlist[i] = 6\n",
    "            add_fishes += 1\n",
    "        else:\n",
    "            fishlist[i] = num-1\n",
    "    for _ in range(add_fishes):\n",
    "        fishlist.append(8)\n",
    "\n",
    "print('result 1: ', len(fishlist))"
   ]
  },
  {
   "cell_type": "code",
   "execution_count": 2,
   "metadata": {},
   "outputs": [
    {
     "name": "stdout",
     "output_type": "stream",
     "text": [
      "result 2:  1770823541496\n"
     ]
    }
   ],
   "source": [
    "# ─── CHALLENGE 2 ────────────────────────────────────────────────────────────────\n",
    "\n",
    "@lru_cache(maxsize=None)\n",
    "def spawn_fish(days_left):\n",
    "    fish_counter = 1\n",
    "    fish_life = 8\n",
    "    while days_left > 0:\n",
    "        days_left -= 1\n",
    "        if fish_life == 0:\n",
    "            fish_life = 6\n",
    "            fish_counter += spawn_fish(days_left)\n",
    "        else:\n",
    "            fish_life -= 1\n",
    "    return fish_counter\n",
    "\n",
    "fishlist = list(map(int, re.findall(\"\\d+\", lines[0])))\n",
    "\n",
    "fish_counter_global = len(fishlist)\n",
    "days_left_global = 256\n",
    "\n",
    "for fish_life in fishlist:\n",
    "    days_left = days_left_global\n",
    "    while days_left > 0:\n",
    "        days_left -= 1\n",
    "        if fish_life == 0:\n",
    "            fish_life = 6\n",
    "            fish_counter_global += spawn_fish(days_left)\n",
    "        else:\n",
    "            fish_life -= 1\n",
    "\n",
    "print('result 2: ', fish_counter_global)"
   ]
  }
 ],
 "metadata": {
  "kernelspec": {
   "display_name": "Python 3.10.4 ('ravelights')",
   "language": "python",
   "name": "python3"
  },
  "language_info": {
   "codemirror_mode": {
    "name": "ipython",
    "version": 3
   },
   "file_extension": ".py",
   "mimetype": "text/x-python",
   "name": "python",
   "nbconvert_exporter": "python",
   "pygments_lexer": "ipython3",
   "version": "3.10.4"
  },
  "orig_nbformat": 4,
  "vscode": {
   "interpreter": {
    "hash": "93ebad531fc14ba2f2fe9865593b3cc6d4b4610116dacef3aa50777030d7ba3e"
   }
  }
 },
 "nbformat": 4,
 "nbformat_minor": 2
}
