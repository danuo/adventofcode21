{
 "cells": [
  {
   "cell_type": "code",
   "execution_count": 1,
   "metadata": {},
   "outputs": [
    {
     "name": "stdout",
     "output_type": "stream",
     "text": [
      "result 1:  3985686\n"
     ]
    }
   ],
   "source": [
    "# ─── CHALLENGE 1 ────────────────────────────────────────────────────────────────\n",
    "\n",
    "import numpy as np\n",
    "import math\n",
    "\n",
    "def round_half_up(i):\n",
    "    f = math.floor(i)\n",
    "    return f if i - f < 0.5 else f+1\n",
    "\n",
    "with open('input03') as file:\n",
    "    lines = file.read().splitlines()\n",
    "\n",
    "n_input_length = len(lines)\n",
    "n_line_length = len(lines[0])\n",
    "\n",
    "data = [np.zeros(n_input_length, dtype=int) for _ in range(n_line_length)]\n",
    "\n",
    "for i_input_index, line in enumerate(lines):\n",
    "    for i_bit_position, num in enumerate(line):\n",
    "        data[i_bit_position][i_input_index] = int(num)\n",
    "\n",
    "most_common_bit_as_str = [0 for _ in range(n_line_length)]\n",
    "\n",
    "for i_bit_position in range(n_line_length):\n",
    "    mean_num_for_most = round_half_up(np.mean(data[i_bit_position]))\n",
    "    most_common_bit_as_str[i_bit_position] = str(mean_num_for_most)\n",
    "\n",
    "gamma_rate = int(\"\".join([str(s) for s in most_common_bit_as_str]), 2)\n",
    "epsilon_rate = 2**n_line_length - 1 - gamma_rate\n",
    "\n",
    "print('result 1: ', gamma_rate * epsilon_rate)"
   ]
  },
  {
   "cell_type": "code",
   "execution_count": 2,
   "metadata": {},
   "outputs": [
    {
     "name": "stdout",
     "output_type": "stream",
     "text": [
      "result 2:  2555739\n"
     ]
    }
   ],
   "source": [
    "# ─── CHALLENGE 2 ────────────────────────────────────────────────────────────────\n",
    "\n",
    "candidates_most_common = set(range(n_input_length))\n",
    "candidates_least_common = set(range(n_input_length))\n",
    "\n",
    "for i_bit_position in range(n_line_length):  # 12\n",
    "    slice_selection_most_common = np.array(list(candidates_most_common))\n",
    "    data_selection = data[i_bit_position][slice_selection_most_common]\n",
    "    mean_num_for_most = round_half_up(np.mean(data_selection))\n",
    "    most_common_bit_as_int = int(mean_num_for_most)\n",
    "\n",
    "    slice_selection_least_common = np.array(list(candidates_least_common))\n",
    "    data_selection = data[i_bit_position][slice_selection_least_common]\n",
    "    mean_num_for_least = 1 - round_half_up(np.mean(data_selection))\n",
    "    least_common_bit_as_int = int(mean_num_for_least)\n",
    "\n",
    "    for i_input_index in range(n_input_length):  # 1000\n",
    "        if data[i_bit_position][i_input_index] != most_common_bit_as_int:\n",
    "            if len(candidates_most_common) > 1:\n",
    "                candidates_most_common.discard(i_input_index)\n",
    "        if data[i_bit_position][i_input_index] != least_common_bit_as_int:\n",
    "            if len(candidates_least_common) > 1:\n",
    "                candidates_least_common.discard(i_input_index)\n",
    "\n",
    "str_oxygen = \"\"\n",
    "input_index_oxygen = candidates_most_common.pop()\n",
    "for i_bit_position in range(n_line_length):\n",
    "    str_oxygen += str(data[i_bit_position][input_index_oxygen])\n",
    "str_co2 = \"\"\n",
    "input_index_co2 = candidates_least_common.pop()\n",
    "for i_bit_position in range(n_line_length):\n",
    "    str_co2 += str(data[i_bit_position][input_index_co2])\n",
    "\n",
    "print('result 2: ', int(str_oxygen, 2)*int(str_co2, 2))\n"
   ]
  }
 ],
 "metadata": {
  "kernelspec": {
   "display_name": "Python 3.10.4 ('ravelights')",
   "language": "python",
   "name": "python3"
  },
  "language_info": {
   "codemirror_mode": {
    "name": "ipython",
    "version": 3
   },
   "file_extension": ".py",
   "mimetype": "text/x-python",
   "name": "python",
   "nbconvert_exporter": "python",
   "pygments_lexer": "ipython3",
   "version": "3.10.4"
  },
  "orig_nbformat": 4,
  "vscode": {
   "interpreter": {
    "hash": "93ebad531fc14ba2f2fe9865593b3cc6d4b4610116dacef3aa50777030d7ba3e"
   }
  }
 },
 "nbformat": 4,
 "nbformat_minor": 2
}
