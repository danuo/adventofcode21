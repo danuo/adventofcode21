{
 "cells": [
  {
   "cell_type": "code",
   "execution_count": 1,
   "metadata": {},
   "outputs": [
    {
     "name": "stdout",
     "output_type": "stream",
     "text": [
      "result 1:  318099\n"
     ]
    }
   ],
   "source": [
    "# ─── CHALLENGE 1 ────────────────────────────────────────────────────────────────\n",
    "\n",
    "with open('input10') as file:\n",
    "    lines = file.read().splitlines()\n",
    "\n",
    "opening_closing_pairs = {    \n",
    "    \"<\": \">\",\n",
    "    \"(\": \")\",\n",
    "    \"[\": \"]\",\n",
    "    \"{\": \"}\",\n",
    "}\n",
    "\n",
    "closing_opening_pairs = {v: k for k, v in opening_closing_pairs.items()}\n",
    "opening = list(opening_closing_pairs.keys())\n",
    "closing = list(opening_closing_pairs.values())\n",
    "error_symbols = []\n",
    "full_repair_symbols = []\n",
    "\n",
    "for line in lines:\n",
    "    corrupted = False\n",
    "    opened_list = []\n",
    "    for s in line:\n",
    "        if s in opening:\n",
    "            opened_list.append(s)\n",
    "        else:  # in closing\n",
    "            if closing_opening_pairs[s] == opened_list[-1]:  # good\n",
    "                opened_list.pop()\n",
    "            else:\n",
    "                error_symbols.append(s)\n",
    "                corrupted = True\n",
    "                break\n",
    "    if corrupted is False:\n",
    "        repair_symbols = []\n",
    "        for s in opened_list[::-1]:\n",
    "            repair_symbols += opening_closing_pairs[s]\n",
    "        full_repair_symbols.append(repair_symbols)\n",
    "\n",
    "error_counter = 0\n",
    "for s in error_symbols:\n",
    "    match s:\n",
    "        case \")\":\n",
    "            error_counter += 3\n",
    "        case \"]\":\n",
    "            error_counter += 57\n",
    "        case \"}\":\n",
    "            error_counter += 1197\n",
    "        case \">\":\n",
    "            error_counter += 25137\n",
    "\n",
    "print('result 1: ', error_counter)"
   ]
  },
  {
   "cell_type": "code",
   "execution_count": 2,
   "metadata": {},
   "outputs": [
    {
     "name": "stdout",
     "output_type": "stream",
     "text": [
      "result 2:  2389738699\n"
     ]
    }
   ],
   "source": [
    "# ─── CHALLENGE 2 ────────────────────────────────────────────────────────────────\n",
    "\n",
    "full_repair_counter = 0\n",
    "scores = []\n",
    "for line in full_repair_symbols:\n",
    "    repair_counter = 0\n",
    "    for s in line:\n",
    "        repair_counter *= 5\n",
    "        match s:\n",
    "            case \")\":\n",
    "                repair_counter += 1\n",
    "            case \"]\":\n",
    "                repair_counter += 2\n",
    "            case \"}\":\n",
    "                repair_counter += 3\n",
    "            case \">\":\n",
    "                repair_counter += 4\n",
    "    full_repair_counter += repair_counter\n",
    "    scores.append(repair_counter)\n",
    "    \n",
    "scores.sort()\n",
    "print('result 2: ', scores[len(scores)//2])"
   ]
  }
 ],
 "metadata": {
  "kernelspec": {
   "display_name": "Python 3.10.4 ('ravelights')",
   "language": "python",
   "name": "python3"
  },
  "language_info": {
   "codemirror_mode": {
    "name": "ipython",
    "version": 3
   },
   "file_extension": ".py",
   "mimetype": "text/x-python",
   "name": "python",
   "nbconvert_exporter": "python",
   "pygments_lexer": "ipython3",
   "version": "3.10.4"
  },
  "orig_nbformat": 4,
  "vscode": {
   "interpreter": {
    "hash": "93ebad531fc14ba2f2fe9865593b3cc6d4b4610116dacef3aa50777030d7ba3e"
   }
  }
 },
 "nbformat": 4,
 "nbformat_minor": 2
}
