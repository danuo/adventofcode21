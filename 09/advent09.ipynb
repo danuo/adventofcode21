{
 "cells": [
  {
   "cell_type": "code",
   "execution_count": 1,
   "metadata": {},
   "outputs": [
    {
     "name": "stdout",
     "output_type": "stream",
     "text": [
      "result 1:  489\n"
     ]
    }
   ],
   "source": [
    "# ─── CHALLENGE 1 ────────────────────────────────────────────────────────────────\n",
    "\n",
    "import numpy as np\n",
    "from itertools import product\n",
    "from math import prod\n",
    "\n",
    "with open('input') as file:\n",
    "    lines = file.read().splitlines()\n",
    "\n",
    "input_height = len(lines)\n",
    "input_width = len(lines[0])\n",
    "number_int_matrix = np.zeros((input_height, input_width), dtype=int)\n",
    "is_lowest_matrix = number_int_matrix.copy()\n",
    "basin_int_matrix = number_int_matrix.copy()\n",
    "\n",
    "for i, line in enumerate(lines):\n",
    "    int_list = np.fromiter(map(int, line), dtype=int)\n",
    "    number_int_matrix[i,:] = int_list\n",
    "\n",
    "def clip(num, num_min, num_max):\n",
    "    out_nums = [num]\n",
    "    if num >= num_min+1:\n",
    "        out_nums.append(num-1)\n",
    "    if num <= num_max-2:\n",
    "        out_nums.append(num+1)\n",
    "    return out_nums\n",
    "\n",
    "def get_adjecent(matrix, y, x):\n",
    "    y_max, x_max = matrix.shape\n",
    "    y_coords = []\n",
    "    x_coords = []\n",
    "    y_coords += clip(y, 0, y_max)\n",
    "    x_coords += clip(x, 0, x_max)\n",
    "    coords = list(product(y_coords, x_coords))\n",
    "    coords.remove((y, x))\n",
    "    out_values = []\n",
    "    for y, x in coords:\n",
    "        out_values.append(matrix[y, x])    \n",
    "    return out_values\n",
    "\n",
    "for iy, ix in np.ndindex(number_int_matrix.shape):\n",
    "    current_value = number_int_matrix[iy, ix]\n",
    "    adjacent_values = get_adjecent(number_int_matrix, iy,ix)\n",
    "    if all([val > current_value for val in adjacent_values]):\n",
    "        is_lowest_matrix[iy, ix] = 1\n",
    "\n",
    "result = np.sum((number_int_matrix + 1)[is_lowest_matrix > 0])\n",
    "\n",
    "print('result 1: ', result)"
   ]
  },
  {
   "cell_type": "code",
   "execution_count": 2,
   "metadata": {},
   "outputs": [
    {
     "name": "stdout",
     "output_type": "stream",
     "text": [
      "result 2:  1056330\n"
     ]
    }
   ],
   "source": [
    "# ─── CHALLENGE 2 ────────────────────────────────────────────────────────────────\n",
    "\n",
    "def check_field(y, x, fill_value, basin_int_matrix):\n",
    "    if basin_int_matrix[y,x] == 0:\n",
    "        return basin_int_matrix\n",
    "    if basin_int_matrix[y,x] == 1:\n",
    "        basin_int_matrix[y,x] = fill_value\n",
    "        coords_new = []\n",
    "        if y > 0:\n",
    "            coords_new.append((y-1, x))\n",
    "        if y < input_height - 1:\n",
    "            coords_new.append((y+1, x))\n",
    "        if x > 0:\n",
    "            coords_new.append((y, x-1))\n",
    "        if x < input_width - 1:\n",
    "            coords_new.append((y, x+1))\n",
    "        for y_new, x_new in coords_new:\n",
    "            basin_int_matrix = check_field(y_new, x_new, fill_value, basin_int_matrix)\n",
    "    return basin_int_matrix\n",
    "\n",
    "color_idx = 2\n",
    "basin_int_matrix = np.where(number_int_matrix == 9, 0 , 1 )\n",
    "for iy, ix in np.ndindex(basin_int_matrix.shape):\n",
    "    current_value = basin_int_matrix[iy, ix]\n",
    "    if current_value == 1:\n",
    "        new_color_idx = color_idx\n",
    "        color_idx += 1\n",
    "        basin_int_matrix = check_field(iy, ix, new_color_idx, basin_int_matrix)\n",
    "\n",
    "basin_sizes = [0, 0]\n",
    "for color_idx in range(2, color_idx):\n",
    "    basin_sizes.append(len(np.argwhere(basin_int_matrix == color_idx)))\n",
    "\n",
    "print('result 2: ', prod([basin_sizes[i] for i in np.argsort(basin_sizes)[-3:]]))"
   ]
  }
 ],
 "metadata": {
  "kernelspec": {
   "display_name": "Python 3.10.4 ('ravelights')",
   "language": "python",
   "name": "python3"
  },
  "language_info": {
   "codemirror_mode": {
    "name": "ipython",
    "version": 3
   },
   "file_extension": ".py",
   "mimetype": "text/x-python",
   "name": "python",
   "nbconvert_exporter": "python",
   "pygments_lexer": "ipython3",
   "version": "3.10.4"
  },
  "orig_nbformat": 4,
  "vscode": {
   "interpreter": {
    "hash": "93ebad531fc14ba2f2fe9865593b3cc6d4b4610116dacef3aa50777030d7ba3e"
   }
  }
 },
 "nbformat": 4,
 "nbformat_minor": 2
}
