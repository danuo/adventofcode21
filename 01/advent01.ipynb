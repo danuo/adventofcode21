{
 "cells": [
  {
   "cell_type": "code",
   "execution_count": 1,
   "metadata": {},
   "outputs": [
    {
     "name": "stdout",
     "output_type": "stream",
     "text": [
      "result 1:  1711\n"
     ]
    }
   ],
   "source": [
    "# ─── CHALLENGE 1 ────────────────────────────────────────────────────────────────\n",
    "\n",
    "with open('input') as file:\n",
    "    lines = file.read().splitlines()\n",
    "\n",
    "numbers = [int(num) for num in lines]\n",
    "counter = 0\n",
    "for i in range(len(numbers)-1):\n",
    "    if numbers[i+1] > numbers[i]: counter += 1\n",
    "    \n",
    "print('result 1: ', counter)"
   ]
  },
  {
   "cell_type": "code",
   "execution_count": 2,
   "metadata": {},
   "outputs": [
    {
     "name": "stdout",
     "output_type": "stream",
     "text": [
      "result 2:  1743\n"
     ]
    }
   ],
   "source": [
    "# ─── CHALLENGE 2 ────────────────────────────────────────────────────────────────\n",
    "\n",
    "windows = []\n",
    "for i in range(len(numbers) - 2):\n",
    "    windows.append(numbers[i]+numbers[i+1]+numbers[i+2])\n",
    "\n",
    "counter = 0\n",
    "for i in range(len(windows)-1):\n",
    "    if windows[i+1] > windows[i]: counter += 1\n",
    "\n",
    "print('result 2: ', counter)"
   ]
  }
 ],
 "metadata": {
  "interpreter": {
   "hash": "6b7ba686e5312472f391e9d9898d37632c181bdc226f0305c99ce9686578476c"
  },
  "kernelspec": {
   "display_name": "Python 3.9.7 64-bit ('torch': conda)",
   "language": "python",
   "name": "python3"
  },
  "language_info": {
   "codemirror_mode": {
    "name": "ipython",
    "version": 3
   },
   "file_extension": ".py",
   "mimetype": "text/x-python",
   "name": "python",
   "nbconvert_exporter": "python",
   "pygments_lexer": "ipython3",
   "version": "3.9.7"
  },
  "orig_nbformat": 4
 },
 "nbformat": 4,
 "nbformat_minor": 2
}
