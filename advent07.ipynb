{
 "cells": [
  {
   "cell_type": "code",
   "execution_count": 1,
   "metadata": {},
   "outputs": [
    {
     "name": "stdout",
     "output_type": "stream",
     "text": [
      "result 1:  336120\n"
     ]
    }
   ],
   "source": [
    "# ─── CHALLENGE 1 ────────────────────────────────────────────────────────────────\n",
    "\n",
    "import re\n",
    "import numpy as np\n",
    "\n",
    "with open('input07') as file:\n",
    "    lines = file.read().splitlines()\n",
    "    \n",
    "hor_pos_list = list(map(int, re.findall(\"\\d+\", lines[0])))\n",
    "\n",
    "def calc_costs_c1(align_pos):\n",
    "    fuel_cost = 0\n",
    "    for hor_pos in hor_pos_list:\n",
    "        fuel_cost += np.abs(hor_pos - align_pos)\n",
    "    return fuel_cost\n",
    "\n",
    "def calc_costs_c2(align_pos):\n",
    "    def cost_for_distance(num):\n",
    "        return sum(range(1, num+1))\n",
    "    fuel_cost = 0\n",
    "    for hor_pos in hor_pos_list:\n",
    "        fuel_cost += cost_for_distance(np.abs(hor_pos - align_pos))\n",
    "    return fuel_cost\n",
    "\n",
    "best_pos = 0\n",
    "best_cost = 1e9\n",
    "\n",
    "for pos in range(min(hor_pos_list), max(hor_pos_list)):\n",
    "    new_cost = calc_costs_c1(pos)\n",
    "    if new_cost < best_cost:\n",
    "        best_cost = new_cost\n",
    "        best_pos = pos\n",
    "\n",
    "print('result 1: ', best_cost)"
   ]
  },
  {
   "cell_type": "code",
   "execution_count": 2,
   "metadata": {},
   "outputs": [
    {
     "name": "stdout",
     "output_type": "stream",
     "text": [
      "result 2:  96864235\n"
     ]
    }
   ],
   "source": [
    "# ─── CHALLENGE 2 ────────────────────────────────────────────────────────────────\n",
    "\n",
    "best_pos = 0\n",
    "best_cost = 1e9\n",
    "\n",
    "for pos in range(min(hor_pos_list), max(hor_pos_list)):\n",
    "    new_cost = calc_costs_c2(pos)\n",
    "    if new_cost < best_cost:\n",
    "        best_cost = new_cost\n",
    "        best_pos = pos\n",
    "\n",
    "print('result 2: ', best_cost)"
   ]
  }
 ],
 "metadata": {
  "kernelspec": {
   "display_name": "Python 3.10.4 ('ravelights')",
   "language": "python",
   "name": "python3"
  },
  "language_info": {
   "codemirror_mode": {
    "name": "ipython",
    "version": 3
   },
   "file_extension": ".py",
   "mimetype": "text/x-python",
   "name": "python",
   "nbconvert_exporter": "python",
   "pygments_lexer": "ipython3",
   "version": "3.10.4"
  },
  "orig_nbformat": 4,
  "vscode": {
   "interpreter": {
    "hash": "93ebad531fc14ba2f2fe9865593b3cc6d4b4610116dacef3aa50777030d7ba3e"
   }
  }
 },
 "nbformat": 4,
 "nbformat_minor": 2
}
