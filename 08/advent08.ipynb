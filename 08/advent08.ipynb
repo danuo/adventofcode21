{
 "cells": [
  {
   "cell_type": "code",
   "execution_count": 1,
   "metadata": {},
   "outputs": [
    {
     "name": "stdout",
     "output_type": "stream",
     "text": [
      "result 1:  534\n"
     ]
    }
   ],
   "source": [
    "# ─── CHALLENGE 1 ────────────────────────────────────────────────────────────────\n",
    "\n",
    "import re\n",
    "from itertools import permutations as perm\n",
    "\n",
    "with open('input') as file:\n",
    "    lines = file.read().splitlines()\n",
    "    \n",
    "# 0 -> 6x  A\n",
    "# 1 -> 2x  unique\n",
    "# 2 -> 5x  B\n",
    "# 3 -> 5x  B\n",
    "# 4 -> 4x  unique\n",
    "# 5 -> 5x  B\n",
    "# 6 -> 6x  A\n",
    "# 7 -> 3x  unique\n",
    "# 8 -> 7x  unique\n",
    "# 9 -> 6x  A\n",
    "\n",
    "appereance_counter = [0 for _ in range(10)]\n",
    "\n",
    "for line in lines:\n",
    "    before, after = line.split('|')\n",
    "    for digit in re.findall(\"\\w+\", after):\n",
    "        signal_length = len(digit)\n",
    "        match signal_length:\n",
    "            case 2:\n",
    "                appereance_counter[2] += 1\n",
    "            case 3:\n",
    "                appereance_counter[7] += 1\n",
    "            case 4:\n",
    "                appereance_counter[4] += 1\n",
    "            case 7:\n",
    "                appereance_counter[8] += 1\n",
    "    \n",
    "print('result 1: ', sum(appereance_counter))"
   ]
  },
  {
   "cell_type": "code",
   "execution_count": 2,
   "metadata": {},
   "outputs": [
    {
     "name": "stdout",
     "output_type": "stream",
     "text": [
      "result 2:  1070188\n"
     ]
    }
   ],
   "source": [
    "# ─── CHALLENGE 2 ────────────────────────────────────────────────────────────────\n",
    "\n",
    "letter_dict = {\n",
    "    \"a\": 0,\n",
    "    \"b\": 1,\n",
    "    \"c\": 2,\n",
    "    \"d\": 3,\n",
    "    \"e\": 4,\n",
    "    \"f\": 5,\n",
    "    \"g\": 6,\n",
    "}\n",
    "\n",
    "amount_of_letters = {\n",
    "    2: set([1]),\n",
    "    3: set([7]),\n",
    "    4: set([4]),\n",
    "    5: set([2, 3, 5]),\n",
    "    6: set([0, 6, 9]),\n",
    "    7: set([8]),\n",
    "}\n",
    "\n",
    "digit_to_letters = {\n",
    "    0: \"ABCEFG\",\n",
    "    1: \"CF\",\n",
    "    2: \"ACDEG\",\n",
    "    3: \"ACDFG\",\n",
    "    4: \"BCDF\",\n",
    "    5: \"ABDFG\",\n",
    "    6: \"ABDEFG\",\n",
    "    7: \"ACF\",\n",
    "    8: \"ABCDEFG\",\n",
    "    9: \"ABCDFG\",\n",
    "}\n",
    "\n",
    "letters_to_digit = dict((v, k) for k, v in digit_to_letters.items())  # inversed dict\n",
    "final_digit_results = 0\n",
    "for i, line in enumerate(lines):\n",
    "    before, after = line.split('|')\n",
    "    wiring_combinations = perm(\"ABCDEFG\", 7)\n",
    "    found = False\n",
    "    while not found:\n",
    "        wiring = next(wiring_combinations)\n",
    "        wiring_match_list = []\n",
    "        for digit in re.findall(\"\\w+\", before):\n",
    "            digit_letter_indices = [letter_dict[letter] for letter in digit]\n",
    "            digit_letters = [wiring[idx] for idx in digit_letter_indices]\n",
    "            digit_letters.sort()\n",
    "            digit_letters = \"\".join(digit_letters)\n",
    "            result_len = len(digit)\n",
    "            possible_numbers = amount_of_letters[len(digit)]\n",
    "            match = False\n",
    "            for num in amount_of_letters[len(digit)]:\n",
    "                contains = digit_to_letters[num]\n",
    "                if digit_letters == contains:\n",
    "                    match = True\n",
    "            wiring_match_list.append(match)\n",
    "        if all(wiring_match_list):\n",
    "            found = True\n",
    "    digits = []\n",
    "    for digit in re.findall(\"\\w+\", after):\n",
    "        digit_letter_indices = [letter_dict[letter] for letter in digit]\n",
    "        digit_letters = [wiring[idx] for idx in digit_letter_indices]\n",
    "        digit_letters.sort()\n",
    "        digit_letters = \"\".join(digit_letters)\n",
    "        digit = letters_to_digit[digit_letters]\n",
    "        digits.append(str(digit))\n",
    "    full_digit = int(\"\".join(digits))\n",
    "    final_digit_results += full_digit\n",
    "\n",
    "print('result 2: ', final_digit_results)"
   ]
  }
 ],
 "metadata": {
  "kernelspec": {
   "display_name": "Python 3.10.4 ('ravelights')",
   "language": "python",
   "name": "python3"
  },
  "language_info": {
   "codemirror_mode": {
    "name": "ipython",
    "version": 3
   },
   "file_extension": ".py",
   "mimetype": "text/x-python",
   "name": "python",
   "nbconvert_exporter": "python",
   "pygments_lexer": "ipython3",
   "version": "3.10.4"
  },
  "orig_nbformat": 4,
  "vscode": {
   "interpreter": {
    "hash": "93ebad531fc14ba2f2fe9865593b3cc6d4b4610116dacef3aa50777030d7ba3e"
   }
  }
 },
 "nbformat": 4,
 "nbformat_minor": 2
}
