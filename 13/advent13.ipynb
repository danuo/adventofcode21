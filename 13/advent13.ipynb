{
 "cells": [
  {
   "cell_type": "code",
   "execution_count": 1,
   "metadata": {},
   "outputs": [
    {
     "name": "stdout",
     "output_type": "stream",
     "text": [
      "result 1:  706\n"
     ]
    }
   ],
   "source": [
    "# ─── CHALLENGE 1 ────────────────────────────────────────────────────────────────\n",
    "\n",
    "import numpy as np\n",
    "import matplotlib.pyplot as plt\n",
    "\n",
    "with open('input') as file:\n",
    "    lines = file.read().splitlines()\n",
    "\n",
    "# ─── Parse Input ──────────────────────────────────────────────────────────────\n",
    "coords_x, coords_y, fold_along, fold_values = [], [], [], []\n",
    "line: str\n",
    "for line in lines:\n",
    "    if len(line) == 0:\n",
    "        continue\n",
    "    if line[0].isdigit():\n",
    "        x, y = line.split(',')\n",
    "        coords_x.append(int(x))\n",
    "        coords_y.append(int(y))\n",
    "    if line[0] == 'f':\n",
    "        string, value = line.split('=')\n",
    "        fold_along.append(string[-1])\n",
    "        fold_values.append(int(value))\n",
    "\n",
    "dots_matrix = np.zeros(shape=(max(coords_y)+1, max(coords_x)+1), dtype=int)\n",
    "for x, y in zip(coords_x, coords_y):\n",
    "    dots_matrix[y,x] = 1\n",
    "\n",
    "def apply_fold(matrix_in, axis, val):\n",
    "    if axis == 'y':\n",
    "        height = matrix_in.shape[1]\n",
    "        perfect_fold_loc = (height - 1) / 2\n",
    "        base = matrix_in[:val, :]\n",
    "        height_flip = matrix_in.shape[0] - 1 - val\n",
    "        flip = matrix_in[-height_flip:, :]\n",
    "        flip = np.flip(flip, axis=0)\n",
    "        if val < perfect_fold_loc:\n",
    "            big, small = flip, base\n",
    "        else:\n",
    "            big, small = base, flip\n",
    "        big[-small.shape[0]:, :] += small\n",
    "    \n",
    "    elif axis == 'x':\n",
    "        width = matrix_in.shape[1]\n",
    "        perfect_fold_loc = (width - 1) / 2\n",
    "        base = matrix_in[:, :val]\n",
    "        width_flip = matrix_in.shape[1] - 1 - val\n",
    "        flip = matrix_in[:, -width_flip:]\n",
    "        flip = np.flip(flip, axis=1)\n",
    "        if val < perfect_fold_loc:\n",
    "            big, small = flip, base\n",
    "        else:\n",
    "            big, small = base, flip\n",
    "        big[:, -small.shape[1]:] += small\n",
    "        \n",
    "    return big\n",
    "\n",
    "for i, (axis, val) in enumerate(zip(fold_along, fold_values)):\n",
    "    dots_matrix = apply_fold(dots_matrix, axis, val)\n",
    "    if i == 0:\n",
    "        print('result 1: ', np.count_nonzero(dots_matrix))"
   ]
  },
  {
   "cell_type": "code",
   "execution_count": 2,
   "metadata": {},
   "outputs": [
    {
     "data": {
      "text/plain": [
       "(-0.5, 39.5, 5.5, -0.5)"
      ]
     },
     "execution_count": 2,
     "metadata": {},
     "output_type": "execute_result"
    },
    {
     "data": {
      "image/png": "[encoded data removed]",
      "text/plain": [
       "<Figure size 432x288 with 1 Axes>"
      ]
     },
     "metadata": {
      "needs_background": "light"
     },
     "output_type": "display_data"
    }
   ],
   "source": [
    "# ─── CHALLENGE 2 ────────────────────────────────────────────────────────────────\n",
    "\n",
    "plt.imshow((dots_matrix > 0).astype(int))\n",
    "plt.axis('off')"
   ]
  }
 ],
 "metadata": {
  "kernelspec": {
   "display_name": "Python 3.9.7 ('torch')",
   "language": "python",
   "name": "python3"
  },
  "language_info": {
   "codemirror_mode": {
    "name": "ipython",
    "version": 3
   },
   "file_extension": ".py",
   "mimetype": "text/x-python",
   "name": "python",
   "nbconvert_exporter": "python",
   "pygments_lexer": "ipython3",
   "version": "3.9.7"
  },
  "orig_nbformat": 4,
  "vscode": {
   "interpreter": {
    "hash": "d658620874f52341446cf3eccb44f890c3e7d437a37f27f524e92795410287da"
   }
  }
 },
 "nbformat": 4,
 "nbformat_minor": 2
}
